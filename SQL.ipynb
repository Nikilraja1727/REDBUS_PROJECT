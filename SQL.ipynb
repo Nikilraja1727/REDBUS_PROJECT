{
 "cells": [
  {
   "cell_type": "code",
   "execution_count": 3,
   "metadata": {},
   "outputs": [
    {
     "name": "stdout",
     "output_type": "stream",
     "text": [
      "Requirement already satisfied: mysql-connector-python in ./lib/python3.13/site-packages (9.2.0)\n",
      "\n",
      "\u001b[1m[\u001b[0m\u001b[34;49mnotice\u001b[0m\u001b[1;39;49m]\u001b[0m\u001b[39;49m A new release of pip is available: \u001b[0m\u001b[31;49m24.3.1\u001b[0m\u001b[39;49m -> \u001b[0m\u001b[32;49m25.0.1\u001b[0m\n",
      "\u001b[1m[\u001b[0m\u001b[34;49mnotice\u001b[0m\u001b[1;39;49m]\u001b[0m\u001b[39;49m To update, run: \u001b[0m\u001b[32;49mpip install --upgrade pip\u001b[0m\n",
      "Note: you may need to restart the kernel to use updated packages.\n"
     ]
    }
   ],
   "source": [
    "pip install mysql-connector-python"
   ]
  },
  {
   "cell_type": "code",
   "execution_count": 4,
   "metadata": {},
   "outputs": [
    {
     "name": "stdout",
     "output_type": "stream",
     "text": [
      "Requirement already satisfied: pandas in ./lib/python3.13/site-packages (2.2.3)\n",
      "Requirement already satisfied: numpy>=1.26.0 in ./lib/python3.13/site-packages (from pandas) (2.2.3)\n",
      "Requirement already satisfied: python-dateutil>=2.8.2 in ./lib/python3.13/site-packages (from pandas) (2.9.0.post0)\n",
      "Requirement already satisfied: pytz>=2020.1 in ./lib/python3.13/site-packages (from pandas) (2025.1)\n",
      "Requirement already satisfied: tzdata>=2022.7 in ./lib/python3.13/site-packages (from pandas) (2025.1)\n",
      "Requirement already satisfied: six>=1.5 in ./lib/python3.13/site-packages (from python-dateutil>=2.8.2->pandas) (1.17.0)\n",
      "\n",
      "\u001b[1m[\u001b[0m\u001b[34;49mnotice\u001b[0m\u001b[1;39;49m]\u001b[0m\u001b[39;49m A new release of pip is available: \u001b[0m\u001b[31;49m24.3.1\u001b[0m\u001b[39;49m -> \u001b[0m\u001b[32;49m25.0.1\u001b[0m\n",
      "\u001b[1m[\u001b[0m\u001b[34;49mnotice\u001b[0m\u001b[1;39;49m]\u001b[0m\u001b[39;49m To update, run: \u001b[0m\u001b[32;49mpip install --upgrade pip\u001b[0m\n",
      "Note: you may need to restart the kernel to use updated packages.\n"
     ]
    }
   ],
   "source": [
    "pip install pandas"
   ]
  },
  {
   "cell_type": "code",
   "execution_count": null,
   "metadata": {},
   "outputs": [
    {
     "data": {
      "text/plain": [
       "<mysql.connector.cursor_cext.CMySQLCursor at 0x118f31e80>"
      ]
     },
     "execution_count": 5,
     "metadata": {},
     "output_type": "execute_result"
    }
   ],
   "source": [
    "from mysql import connector\n",
    "import pandas as pd\n",
    "import glob\n",
    "\n",
    "connection = connector.connect(\n",
    "    host = \"localhost\",\n",
    "    user = \"root\",\n",
    "    password = \"Amma@1727\"\n",
    ")\n",
    "cursor = connection.cursor()\n",
    "mycursor"
   ]
  },
  {
   "cell_type": "code",
   "execution_count": 1,
   "metadata": {},
   "outputs": [
    {
     "name": "stdout",
     "output_type": "stream",
     "text": [
      "Requirement already satisfied: mysql-connector-python in ./lib/python3.13/site-packages (9.2.0)\n",
      "\n",
      "\u001b[1m[\u001b[0m\u001b[34;49mnotice\u001b[0m\u001b[1;39;49m]\u001b[0m\u001b[39;49m A new release of pip is available: \u001b[0m\u001b[31;49m24.3.1\u001b[0m\u001b[39;49m -> \u001b[0m\u001b[32;49m25.0.1\u001b[0m\n",
      "\u001b[1m[\u001b[0m\u001b[34;49mnotice\u001b[0m\u001b[1;39;49m]\u001b[0m\u001b[39;49m To update, run: \u001b[0m\u001b[32;49mpip install --upgrade pip\u001b[0m\n",
      "Data successfully inserted into MySQL database.\n"
     ]
    }
   ],
   "source": [
    "! pip install mysql-connector-python\n",
    "from mysql import connector\n",
    "import pandas as pd\n",
    "import glob\n",
    "\n",
    "connection = connector.connect(\n",
    "    host = \"localhost\",\n",
    "    user = \"root\",\n",
    "    password = \"Amma@1727\"\n",
    ")\n",
    "\n",
    "\n",
    "\n",
    "df = pd.read_csv(\"southbengal.csv\")\n",
    "df = pd.read_csv(\"assam.csv\")\n",
    "df = pd.read_csv(\"bihar.csv\")\n",
    "df = pd.read_csv(\"kerala.csv\")\n",
    "df = pd.read_csv(\"telangana.csv\")\n",
    "df = pd.read_csv(\"rajasthan.csv\")\n",
    "df = pd.read_csv(\"jammukashmir.csv\")\n",
    "df = pd.read_csv(\"northbengal.csv\")\n",
    "df = pd.read_csv(\"kadamba.csv\")\n",
    "df = pd.read_csv(\"westbengal.csv\")\n",
    "\n",
    "\n",
    "csv_files = [\"southbengal.csv\", \"assam.csv\", \"bihar.csv\", \"kerala.csv\", \n",
    "             \"telangana.csv\", \"rajasthan.csv\", \"jammukashmir.csv\", \n",
    "             \"northbengal.csv\", \"kadamba.csv\", \"westbengal.csv\"]\n",
    "\n",
    "\n",
    "\n",
    "df_list =[pd.read_csv(file) for file in csv_files]\n",
    "combined_df = pd.concat(df_list, ignore_index=True)\n",
    "\n",
    "combined_df.insert(0, 'id', range(1, len(combined_df) + 1))\n",
    "\n",
    "if 'Price' in combined_df.columns:\n",
    "    combined_df['Price'] = combined_df['Price'].astype(str).str.replace('INR ', '', regex=False).astype(float)\n",
    "\n",
    "if 'Seat_Availability' in combined_df.columns:\n",
    "    combined_df['Seat_Availability'] = combined_df['Seat_Availability'].str.extract(r'(\\d+)').astype(float)\n",
    "\n",
    "combined_df = combined_df.dropna()\n",
    "\n",
    "try:\n",
    "    connection = connector.connect(\n",
    "    host = \"localhost\",\n",
    "    user = \"root\",\n",
    "    password = \"Amma@1727\",\n",
    "    database=\"redbus\"\n",
    "    )\n",
    "    cursor = connection.cursor()\n",
    "\n",
    "    table_name = \"bus_routes\"\n",
    "    cursor.execute(f\"DROP TABLE IF EXISTS {table_name}\")\n",
    "\n",
    "    sql_columns = \", \".join(\n",
    "        f\"`{col}` {'FLOAT' if dtype == 'float64' else 'INT' if dtype == 'int64' else 'TEXT'}\"\n",
    "        for col, dtype in zip(combined_df.columns, combined_df.dtypes)\n",
    "    )\n",
    "\n",
    "    create_table_query = f\"CREATE TABLE {table_name} ({sql_columns});\"\n",
    "    cursor.execute(create_table_query)\n",
    "\n",
    "    data_tuples = [tuple(x) for x in combined_df.to_numpy()]\n",
    "    insert_query = f\"INSERT INTO {table_name} ({', '.join(combined_df.columns)}) VALUES ({', '.join(['%s'] * len(combined_df.columns))})\"\n",
    "\n",
    "    cursor.executemany(insert_query, data_tuples)\n",
    "    connection.commit()\n",
    "\n",
    "    print(\"Data successfully inserted into MySQL database.\")\n",
    "\n",
    "except connector.Error as err:\n",
    "    print(f\"Error: {err}\")\n",
    "\n",
    "finally:\n",
    "    if connection.is_connected():\n",
    "        cursor.close()\n",
    "        connection.close()\n",
    "\n",
    "\n"
   ]
  },
  {
   "cell_type": "code",
   "execution_count": null,
   "metadata": {},
   "outputs": [],
   "source": []
  }
 ],
 "metadata": {
  "kernelspec": {
   "display_name": "env",
   "language": "python",
   "name": "python3"
  },
  "language_info": {
   "codemirror_mode": {
    "name": "ipython",
    "version": 3
   },
   "file_extension": ".py",
   "mimetype": "text/x-python",
   "name": "python",
   "nbconvert_exporter": "python",
   "pygments_lexer": "ipython3",
   "version": "3.13.1"
  }
 },
 "nbformat": 4,
 "nbformat_minor": 2
}
